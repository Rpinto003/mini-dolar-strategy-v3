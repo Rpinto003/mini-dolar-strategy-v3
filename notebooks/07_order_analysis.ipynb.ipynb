{
 "cells": [
  {
   "cell_type": "markdown",
   "metadata": {},
   "source": [
    "# Análise de Ordens WDO\n",
    "Análise detalhada das ordens geradas pelo modelo otimizado."
   ]
  },
  {
   "cell_type": "code",
   "execution_count": 1,
   "metadata": {},
   "outputs": [],
   "source": [
    "import os\n",
    "import sys\n",
    "from pathlib import Path\n",
    "import pandas as pd\n",
    "import numpy as np\n",
    "import matplotlib.pyplot as plt\n",
    "import seaborn as sns\n",
    "\n",
    "PROJECT_ROOT = Path(os.path.dirname(os.getcwd()))\n",
    "if str(PROJECT_ROOT) not in sys.path:\n",
    "    sys.path.append(str(PROJECT_ROOT))\n",
    "\n",
    "plt.style.use('default')\n",
    "pd.set_option('display.max_columns', None)"
   ]
  },
  {
   "cell_type": "code",
   "execution_count": 2,
   "metadata": {},
   "outputs": [],
   "source": [
    "# Carrega modelo otimizado\n",
    "from src.data.loaders.market_data_loader import MarketDataLoader\n",
    "from src.ml.features.feature_engineering import FeatureEngineering\n",
    "from src.agents.market_agent import RiskManagementAgent, MarketRegimeAgent\n",
    "from src.agents.agent_coordinator import AgentCoordinator\n",
    "\n",
    "# Parâmetros otimizados\n",
    "risk_agent = RiskManagementAgent(\n",
    "    max_drawdown=-0.002793,\n",
    "    max_position_size=2\n",
    ")\n",
    "\n",
    "regime_agent = MarketRegimeAgent(\n",
    "    window_size=25\n",
    ")\n",
    "\n",
    "coordinator = AgentCoordinator([risk_agent, regime_agent])"
   ]
  },
  {
   "cell_type": "code",
   "execution_count": 3,
   "metadata": {},
   "outputs": [],
   "source": [
    "# Função para análise de ordens\n",
    "def analyze_orders(signals, data):\n",
    "    orders = []\n",
    "    position = 0\n",
    "    entry_price = 0\n",
    "    entry_time = None\n",
    "    \n",
    "    for idx, row in data.iterrows():\n",
    "        signal = signals[idx]\n",
    "        \n",
    "        # Fecha posição existente\n",
    "        if position != 0 and signal != position:\n",
    "            pnl = (row['close'] - entry_price) * position\n",
    "            duration = (idx - entry_time).total_seconds() / 3600  # em horas\n",
    "            \n",
    "            orders.append({\n",
    "                'entry_time': entry_time,\n",
    "                'exit_time': idx,\n",
    "                'duration': duration,\n",
    "                'entry_price': entry_price,\n",
    "                'exit_price': row['close'],\n",
    "                'direction': 'LONG' if position > 0 else 'SHORT',\n",
    "                'pnl': pnl,\n",
    "                'pnl_percent': (pnl / entry_price) * 100\n",
    "            })\n",
    "            position = 0\n",
    "        \n",
    "        # Abre nova posição\n",
    "        if position == 0 and signal != 0:\n",
    "            position = signal\n",
    "            entry_price = row['close']\n",
    "            entry_time = idx\n",
    "    \n",
    "    return pd.DataFrame(orders)"
   ]
  },
  {
   "cell_type": "code",
   "execution_count": 4,
   "metadata": {},
   "outputs": [],
   "source": [
    "def analyze_orders(signals, data):\n",
    "    orders = []\n",
    "    position = 0\n",
    "    entry_price = 0\n",
    "    entry_time = None\n",
    "    \n",
    "    # Convertendo sinais para Series com mesmo índice do data\n",
    "    signals = pd.Series(signals, index=data.index)\n",
    "    \n",
    "    for idx, row in data.iterrows():\n",
    "        signal = signals.loc[idx]\n",
    "        \n",
    "        # Fecha posição existente\n",
    "        if position != 0 and signal != position:\n",
    "            pnl = (row['close'] - entry_price) * position\n",
    "            duration = (idx - entry_time).total_seconds() / 3600\n",
    "            \n",
    "            orders.append({\n",
    "                'entry_time': entry_time,\n",
    "                'exit_time': idx,\n",
    "                'duration': duration,\n",
    "                'entry_price': entry_price,\n",
    "                'exit_price': row['close'],\n",
    "                'direction': 'LONG' if position > 0 else 'SHORT',\n",
    "                'pnl': pnl,\n",
    "                'pnl_percent': (pnl / entry_price) * 100\n",
    "            })\n",
    "            position = 0\n",
    "        \n",
    "        # Abre nova posição\n",
    "        if position == 0 and signal != 0:\n",
    "            position = signal\n",
    "            entry_price = row['close']\n",
    "            entry_time = idx\n",
    "    \n",
    "    return pd.DataFrame(orders)"
   ]
  },
  {
   "cell_type": "code",
   "execution_count": 5,
   "metadata": {},
   "outputs": [],
   "source": [
    "def get_signals(data, risk_agent, regime_agent):\n",
    "    signals = np.zeros(len(data))\n",
    "    position = 0\n",
    "    \n",
    "    for i in range(1, len(data)):\n",
    "        if data['rsi'].iloc[i] < 30 and position <= 0:\n",
    "            signals[i] = 1\n",
    "        elif data['rsi'].iloc[i] > 70 and position >= 0:\n",
    "            signals[i] = -1\n",
    "            \n",
    "        if position != 0:\n",
    "            ret = (data['close'].iloc[i] - data['close'].iloc[i-1]) / data['close'].iloc[i-1]\n",
    "            if abs(ret) > abs(risk_agent.max_drawdown):\n",
    "                signals[i] = 0\n",
    "                \n",
    "        position = signals[i]\n",
    "    \n",
    "    return signals"
   ]
  },
  {
   "cell_type": "code",
   "execution_count": 6,
   "metadata": {},
   "outputs": [
    {
     "ename": "NameError",
     "evalue": "name 'features' is not defined",
     "output_type": "error",
     "traceback": [
      "\u001b[1;31m---------------------------------------------------------------------------\u001b[0m",
      "\u001b[1;31mNameError\u001b[0m                                 Traceback (most recent call last)",
      "Cell \u001b[1;32mIn[6], line 2\u001b[0m\n\u001b[0;32m      1\u001b[0m \u001b[38;5;66;03m# Gera e analisa ordens\u001b[39;00m\n\u001b[1;32m----> 2\u001b[0m signals \u001b[38;5;241m=\u001b[39m get_signals(\u001b[43mfeatures\u001b[49m, risk_agent, regime_agent)\n\u001b[0;32m      3\u001b[0m orders_df \u001b[38;5;241m=\u001b[39m analyze_orders(signals, data)\n\u001b[0;32m      5\u001b[0m \u001b[38;5;28mprint\u001b[39m(\u001b[38;5;124m'\u001b[39m\u001b[38;5;130;01m\\n\u001b[39;00m\u001b[38;5;124mEstatísticas das Ordens:\u001b[39m\u001b[38;5;124m'\u001b[39m)\n",
      "\u001b[1;31mNameError\u001b[0m: name 'features' is not defined"
     ]
    }
   ],
   "source": [
    "# Gera e analisa ordens\n",
    "signals = get_signals(features, risk_agent, regime_agent)\n",
    "orders_df = analyze_orders(signals, data)\n",
    "\n",
    "print('\\nEstatísticas das Ordens:')\n",
    "print(f'Total de trades: {len(orders_df)}')\n",
    "print(f'Win rate: {(orders_df.pnl > 0).mean():.2%}')\n",
    "print(f'Média duração (horas): {orders_df.duration.mean():.2f}')\n",
    "print(f'PnL médio: R${orders_df.pnl.mean():.2f}')\n",
    "print(f'PnL total: R${orders_df.pnl.sum():.2f}')\n",
    "\n",
    "# Análise por direção\n",
    "direction_stats = orders_df.groupby('direction').agg({\n",
    "    'pnl': ['count', 'mean', 'sum'],\n",
    "    'duration': 'mean',\n",
    "    'pnl_percent': 'mean'\n",
    "}).round(2)\n",
    "\n",
    "print('\\nEstatísticas por Direção:')\n",
    "print(direction_stats)"
   ]
  },
  {
   "cell_type": "code",
   "execution_count": null,
   "metadata": {},
   "outputs": [],
   "source": [
    "# Visualizações\n",
    "plt.figure(figsize=(15, 5))\n",
    "\n",
    "# PnL acumulado\n",
    "plt.subplot(1, 2, 1)\n",
    "plt.plot(orders_df.pnl.cumsum())\n",
    "plt.title('PnL Acumulado')\n",
    "plt.grid(True)\n",
    "\n",
    "# Distribuição de retornos\n",
    "plt.subplot(1, 2, 2)\n",
    "sns.histplot(orders_df.pnl_percent, bins=50)\n",
    "plt.title('Distribuição dos Retornos (%)')\n",
    "plt.grid(True)\n",
    "\n",
    "plt.tight_layout()\n",
    "plt.show()"
   ]
  }
 ],
 "metadata": {
  "kernelspec": {
   "display_name": "aioffice_env",
   "language": "python",
   "name": "python3"
  },
  "language_info": {
   "codemirror_mode": {
    "name": "ipython",
    "version": 3
   },
   "file_extension": ".py",
   "mimetype": "text/x-python",
   "name": "python",
   "nbconvert_exporter": "python",
   "pygments_lexer": "ipython3",
   "version": "3.12.6"
  }
 },
 "nbformat": 4,
 "nbformat_minor": 4
}
