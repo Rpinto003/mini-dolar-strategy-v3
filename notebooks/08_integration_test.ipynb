{
 "cells": [
  {
   "cell_type": "markdown",
   "metadata": {},
   "source": [
    "# Teste de Integração - Mini Dólar Strategy v2\n",
    "\n",
    "Este notebook testa a integração entre os diferentes componentes da estratégia."
   ]
  },
  {
   "cell_type": "code",
   "execution_count": 1,
   "metadata": {},
   "outputs": [
    {
     "ename": "NameError",
     "evalue": "name 'AgentDecision' is not defined",
     "output_type": "error",
     "traceback": [
      "\u001b[1;31m---------------------------------------------------------------------------\u001b[0m",
      "\u001b[1;31mNameError\u001b[0m                                 Traceback (most recent call last)",
      "Cell \u001b[1;32mIn[1], line 17\u001b[0m\n\u001b[0;32m     15\u001b[0m \u001b[38;5;66;03m# Importa os componentes da estratégia\u001b[39;00m\n\u001b[0;32m     16\u001b[0m \u001b[38;5;28;01mfrom\u001b[39;00m \u001b[38;5;21;01msrc\u001b[39;00m\u001b[38;5;21;01m.\u001b[39;00m\u001b[38;5;21;01mintegrador\u001b[39;00m\u001b[38;5;21;01m.\u001b[39;00m\u001b[38;5;21;01magent_base\u001b[39;00m \u001b[38;5;28;01mimport\u001b[39;00m BaseAgent, MarketData, TechnicalIndicators\n\u001b[1;32m---> 17\u001b[0m \u001b[38;5;28;01mfrom\u001b[39;00m \u001b[38;5;21;01msrc\u001b[39;00m\u001b[38;5;21;01m.\u001b[39;00m\u001b[38;5;21;01mintegrador\u001b[39;00m\u001b[38;5;21;01m.\u001b[39;00m\u001b[38;5;21;01mintegration_manager\u001b[39;00m \u001b[38;5;28;01mimport\u001b[39;00m IntegrationManager\n\u001b[0;32m     18\u001b[0m \u001b[38;5;28;01mfrom\u001b[39;00m \u001b[38;5;21;01msrc\u001b[39;00m\u001b[38;5;21;01m.\u001b[39;00m\u001b[38;5;21;01mrelatorios\u001b[39;00m\u001b[38;5;21;01m.\u001b[39;00m\u001b[38;5;21;01morder_execution\u001b[39;00m \u001b[38;5;28;01mimport\u001b[39;00m OrderExecutionSystem\n\u001b[0;32m     19\u001b[0m \u001b[38;5;28;01mfrom\u001b[39;00m \u001b[38;5;21;01msrc\u001b[39;00m\u001b[38;5;21;01m.\u001b[39;00m\u001b[38;5;21;01mrelatorios\u001b[39;00m\u001b[38;5;21;01m.\u001b[39;00m\u001b[38;5;21;01mdetailed_reporting\u001b[39;00m \u001b[38;5;28;01mimport\u001b[39;00m DetailedReportingSystem\n",
      "File \u001b[1;32mc:\\Users\\rlcp0\\AI Office\\mini-dolar-strategy-v3\\src\\integrador\\integration_manager.py:22\u001b[0m\n\u001b[0;32m     19\u001b[0m     indicators: Dict[\u001b[38;5;28mstr\u001b[39m, Any]\n\u001b[0;32m     20\u001b[0m     metadata: Dict[\u001b[38;5;28mstr\u001b[39m, Any]\n\u001b[1;32m---> 22\u001b[0m \u001b[38;5;28;43;01mclass\u001b[39;49;00m\u001b[43m \u001b[49m\u001b[38;5;21;43;01mIntegrationManager\u001b[39;49;00m\u001b[43m:\u001b[49m\n\u001b[0;32m     23\u001b[0m \u001b[38;5;250;43m    \u001b[39;49m\u001b[38;5;124;43;03m\"\"\"Gerencia a integração entre agentes, análises e relatórios\"\"\"\u001b[39;49;00m\n\u001b[0;32m     25\u001b[0m \u001b[43m    \u001b[49m\u001b[38;5;28;43;01mdef\u001b[39;49;00m\u001b[43m \u001b[49m\u001b[38;5;21;43m__init__\u001b[39;49m\u001b[43m(\u001b[49m\u001b[38;5;28;43mself\u001b[39;49m\u001b[43m,\u001b[49m\u001b[43m \u001b[49m\u001b[43mlogger\u001b[49m\u001b[43m:\u001b[49m\u001b[43m \u001b[49m\u001b[43mOptional\u001b[49m\u001b[43m[\u001b[49m\u001b[43mlogging\u001b[49m\u001b[38;5;241;43m.\u001b[39;49m\u001b[43mLogger\u001b[49m\u001b[43m]\u001b[49m\u001b[43m \u001b[49m\u001b[38;5;241;43m=\u001b[39;49m\u001b[43m \u001b[49m\u001b[38;5;28;43;01mNone\u001b[39;49;00m\u001b[43m)\u001b[49m\u001b[43m:\u001b[49m\n",
      "File \u001b[1;32mc:\\Users\\rlcp0\\AI Office\\mini-dolar-strategy-v3\\src\\integrador\\integration_manager.py:70\u001b[0m, in \u001b[0;36mIntegrationManager\u001b[1;34m()\u001b[0m\n\u001b[0;32m     67\u001b[0m         \u001b[38;5;28mself\u001b[39m\u001b[38;5;241m.\u001b[39mlogger\u001b[38;5;241m.\u001b[39merror(\u001b[38;5;124mf\u001b[39m\u001b[38;5;124m\"\u001b[39m\u001b[38;5;124mErro na atualização de dados: \u001b[39m\u001b[38;5;132;01m{\u001b[39;00m\u001b[38;5;28mstr\u001b[39m(e)\u001b[38;5;132;01m}\u001b[39;00m\u001b[38;5;124m\"\u001b[39m)\n\u001b[0;32m     68\u001b[0m         \u001b[38;5;28;01mreturn\u001b[39;00m \u001b[38;5;28;01mFalse\u001b[39;00m\n\u001b[1;32m---> 70\u001b[0m \u001b[38;5;28;01mdef\u001b[39;00m \u001b[38;5;21mcollect_agent_decisions\u001b[39m(\u001b[38;5;28mself\u001b[39m) \u001b[38;5;241m-\u001b[39m\u001b[38;5;241m>\u001b[39m Dict[\u001b[38;5;28mstr\u001b[39m, \u001b[43mAgentDecision\u001b[49m]:\n\u001b[0;32m     71\u001b[0m \u001b[38;5;250m    \u001b[39m\u001b[38;5;124;03m\"\"\"Coleta decisões de todos os agentes\"\"\"\u001b[39;00m\n\u001b[0;32m     72\u001b[0m     decisions \u001b[38;5;241m=\u001b[39m {}\n",
      "\u001b[1;31mNameError\u001b[0m: name 'AgentDecision' is not defined"
     ]
    }
   ],
   "source": [
    "# Importações\n",
    "import pandas as pd\n",
    "import numpy as np\n",
    "from datetime import datetime\n",
    "import logging\n",
    "import sys\n",
    "from pathlib import Path\n",
    "import os\n",
    "\n",
    "# Adiciona o diretório raiz ao path\n",
    "PROJECT_ROOT = Path(os.getcwd()).parent  # Subir um nível no diretório\n",
    "if str(PROJECT_ROOT) not in sys.path:\n",
    "    sys.path.append(str(PROJECT_ROOT))\n",
    "\n",
    "# Importa os componentes da estratégia\n",
    "from src.integrador.agent_base import BaseAgent, MarketData, TechnicalIndicators\n",
    "from src.integrador.integration_manager import IntegrationManager\n",
    "from src.relatorios.order_execution import OrderExecutionSystem\n",
    "from src.relatorios.detailed_reporting import DetailedReportingSystem\n",
    "from src.utils.logger import setup_logger"
   ]
  },
  {
   "cell_type": "markdown",
   "metadata": {},
   "source": [
    "## 1. Configuração do Logger"
   ]
  },
  {
   "cell_type": "code",
   "execution_count": null,
   "metadata": {},
   "outputs": [],
   "source": [
    "logger = setup_logger(\"notebook_test\")\n",
    "logger.info(\"Iniciando testes de integração\")"
   ]
  },
  {
   "cell_type": "markdown",
   "metadata": {},
   "source": [
    "## 2. Carregamento dos Dados"
   ]
  },
  {
   "cell_type": "code",
   "execution_count": null,
   "metadata": {},
   "outputs": [],
   "source": [
    "# Carrega dados históricos\n",
    "def load_historical_data(filepath):\n",
    "    try:\n",
    "        data = pd.read_csv(filepath)\n",
    "        logger.info(f\"Dados carregados: {len(data)} registros\")\n",
    "        return data\n",
    "    except Exception as e:\n",
    "        logger.error(f\"Erro ao carregar dados: {str(e)}\")\n",
    "        return None\n",
    "\n",
    "# Substitua pelo caminho correto do seu arquivo de dados\n",
    "historical_data = load_historical_data(\"../data/wdo_data.csv\")\n",
    "historical_data.head()"
   ]
  },
  {
   "cell_type": "markdown",
   "metadata": {},
   "source": [
    "## 3. Inicialização dos Sistemas"
   ]
  },
  {
   "cell_type": "code",
   "execution_count": null,
   "metadata": {},
   "outputs": [],
   "source": [
    "# Inicializa os componentes principais\n",
    "integration_manager = IntegrationManager()\n",
    "order_system = OrderExecutionSystem()\n",
    "reporting_system = DetailedReportingSystem()\n",
    "\n",
    "# Registra os agentes\n",
    "agents = [\n",
    "    RiskManagementAgent(max_drawdown=-0.02),\n",
    "    MarketRegimeAgent(window_size=20),\n",
    "    FeatureSelectionAgent(['sma_20', 'rsi', 'macd'])\n",
    "]\n",
    "\n",
    "for agent in agents:\n",
    "    integration_manager.register_agent(agent)\n",
    "    logger.info(f\"Agente registrado: {agent.name}\")"
   ]
  },
  {
   "cell_type": "markdown",
   "metadata": {},
   "source": [
    "## 4. Função de Simulação"
   ]
  },
  {
   "cell_type": "code",
   "execution_count": null,
   "metadata": {},
   "outputs": [],
   "source": [
    "def run_simulation(data, start_idx=0, periods=100):\n",
    "    results = []\n",
    "    \n",
    "    for i in range(start_idx, min(start_idx + periods, len(data))):\n",
    "        row = data.iloc[i]\n",
    "        \n",
    "        # Prepara dados de mercado\n",
    "        market_data = MarketData(\n",
    "            timestamp=pd.to_datetime(row['datetime']),\n",
    "            open=row['open'],\n",
    "            high=row['high'],\n",
    "            low=row['low'],\n",
    "            close=row['close'],\n",
    "            volume=row['volume']\n",
    "        )\n",
    "        \n",
    "        # Prepara indicadores técnicos\n",
    "        technical_indicators = TechnicalIndicators(\n",
    "            rsi=row['rsi'],\n",
    "            macd={'line': row['macd'], 'signal': row['macd_signal'], 'histogram': row['macd_hist']},\n",
    "            bollinger={'upper': row['bb_upper'], 'middle': row['bb_middle'], 'lower': row['bb_lower']},\n",
    "            volume_profile={'poc': row['volume_poc']},\n",
    "            additional={}\n",
    "        )\n",
    "        \n",
    "        # Atualiza agentes e coleta decisões\n",
    "        if integration_manager.update_market_data(market_data, technical_indicators):\n",
    "            agent_decisions = integration_manager.collect_agent_decisions()\n",
    "            \n",
    "            # Consolida análises\n",
    "            analysis = integration_manager.consolidate_analysis(\n",
    "                agent_decisions,\n",
    "                fundamental_data=None,\n",
    "                ml_predictions=None\n",
    "            )\n",
    "            \n",
    "            # Processa ordem se necessário\n",
    "            if analysis.final_decision != 'HOLD':\n",
    "                order = order_system.create_order(\n",
    "                    analysis_result=analysis,\n",
    "                    current_price=market_data.close\n",
    "                )\n",
    "                \n",
    "                if order:\n",
    "                    report = reporting_system.generate_detailed_trade_report(\n",
    "                        order=order,\n",
    "                        analysis_result=analysis\n",
    "                    )\n",
    "                    results.append({\n",
    "                        'timestamp': market_data.timestamp,\n",
    "                        'action': analysis.final_decision,\n",
    "                        'price': market_data.close,\n",
    "                        'order_id': order.order_id\n",
    "                    })\n",
    "        \n",
    "        # Atualiza ordens existentes\n",
    "        for active_order in order_system.get_active_orders():\n",
    "            order_system.update_order(\n",
    "                active_order.order_id,\n",
    "                market_data.close,\n",
    "                market_data.timestamp\n",
    "            )\n",
    "    \n",
    "    return pd.DataFrame(results)\n"
   ]
  },
  {
   "cell_type": "markdown",
   "metadata": {},
   "source": [
    "## 5. Execução do Teste"
   ]
  },
  {
   "cell_type": "code",
   "execution_count": null,
   "metadata": {},
   "outputs": [],
   "source": [
    "# Executa simulação para os primeiros 100 períodos\n",
    "results_df = run_simulation(historical_data, start_idx=0, periods=100)\n",
    "results_df.head()"
   ]
  },
  {
   "cell_type": "markdown",
   "metadata": {},
   "source": [
    "## 6. Análise dos Resultados"
   ]
  },
  {
   "cell_type": "code",
   "execution_count": null,
   "metadata": {},
   "outputs": [],
   "source": [
    "# Gera relatório de performance\n",
    "performance_report = order_system.generate_performance_report()\n",
    "\n",
    "# Exibe métricas principais\n",
    "print(\"\\nMétricas de Performance:\")\n",
    "for key, value in performance_report['métricas_gerais'].items():\n",
    "    print(f\"{key}: {value}\")"
   ]
  },
  {
   "cell_type": "markdown",
   "metadata": {},
   "source": [
    "## 7. Visualização dos Resultados"
   ]
  },
  {
   "cell_type": "code",
   "execution_count": null,
   "metadata": {},
   "outputs": [],
   "source": [
    "import matplotlib.pyplot as plt\n",
    "\n",
    "# Plot dos preços e sinais\n",
    "plt.figure(figsize=(15, 8))\n",
    "plt.plot(historical_data['close'][:100], label='Preço')\n",
    "\n",
    "# Marca sinais de compra e venda\n",
    "for idx, row in results_df.iterrows():\n",
    "    if row['action'] == 'CALL':\n",
    "        plt.scatter(idx, row['price'], color='green', marker='^', s=100)\n",
    "    elif row['action'] == 'PUT':\n",
    "        plt.scatter(idx, row['price'], color='red', marker='v', s=100)\n",
    "\n",
    "plt.title('Sinais de Trading')\n",
    "plt.legend()\n",
    "plt.grid(True)\n",
    "plt.show()"
   ]
  }
 ],
 "metadata": {
  "kernelspec": {
   "display_name": "aioffice_env",
   "language": "python",
   "name": "python3"
  },
  "language_info": {
   "codemirror_mode": {
    "name": "ipython",
    "version": 3
   },
   "file_extension": ".py",
   "mimetype": "text/x-python",
   "name": "python",
   "nbconvert_exporter": "python",
   "pygments_lexer": "ipython3",
   "version": "3.12.6"
  }
 },
 "nbformat": 4,
 "nbformat_minor": 4
}
